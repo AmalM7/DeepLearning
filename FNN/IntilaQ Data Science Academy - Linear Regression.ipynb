{
 "cells": [
  {
   "cell_type": "markdown",
   "metadata": {},
   "source": [
    "# IntilaQ - Data Science Academy\n",
    "Instructor: Mohamed Karim Bouaziz (DATASCAI)"
   ]
  },
  {
   "cell_type": "markdown",
   "metadata": {},
   "source": [
    "### Import libraries"
   ]
  },
  {
   "cell_type": "code",
   "execution_count": 3,
   "metadata": {},
   "outputs": [],
   "source": [
    "import numpy as np\n",
    "import matplotlib.pyplot as plt\n",
    "import pandas as pd\n",
    "%matplotlib inline  "
   ]
  },
  {
   "cell_type": "markdown",
   "metadata": {},
   "source": [
    "### Data visualisation"
   ]
  },
  {
   "cell_type": "code",
   "execution_count": 18,
   "metadata": {},
   "outputs": [],
   "source": [
    "# import data\n",
    "data= np.loadtxt('AI101.txt', delimiter=',')\n"
   ]
  },
  {
   "cell_type": "code",
   "execution_count": 20,
   "metadata": {},
   "outputs": [],
   "source": [
    "# visualise data"
   ]
  },
  {
   "cell_type": "code",
   "execution_count": 8,
   "metadata": {},
   "outputs": [
    {
     "name": "stdout",
     "output_type": "stream",
     "text": [
      "<class 'pandas.core.frame.DataFrame'>\n",
      "RangeIndex: 100 entries, 0 to 99\n",
      "Data columns (total 3 columns):\n",
      "0    100 non-null float64\n",
      "1    100 non-null float64\n",
      "2    100 non-null int64\n",
      "dtypes: float64(2), int64(1)\n",
      "memory usage: 2.4 KB\n"
     ]
    }
   ],
   "source": [
    "data.info()"
   ]
  },
  {
   "cell_type": "code",
   "execution_count": 21,
   "metadata": {},
   "outputs": [],
   "source": [
    "x = np.c_[np.ones(data.shape[0]),data[:,0]]\n",
    "y = data[:,1].reshape(97,1)\n"
   ]
  },
  {
   "cell_type": "code",
   "execution_count": 22,
   "metadata": {},
   "outputs": [
    {
     "data": {
      "text/plain": [
       "Text(0,0.5,'profil in 10.000')"
      ]
     },
     "execution_count": 22,
     "metadata": {},
     "output_type": "execute_result"
    },
    {
     "data": {
      "image/png": "[encoded data removed]",
      "text/plain": [
       "<matplotlib.figure.Figure at 0x1c947c81908>"
      ]
     },
     "metadata": {},
     "output_type": "display_data"
    }
   ],
   "source": [
    "plt.scatter(x[:,1], y, s=30, c='r', marker='x', linewidths=1)\n",
    "plt.xlim(4,24)\n",
    "plt.xlabel(\"Population of city 10.000\")\n",
    "plt.ylabel(u'profil in 10.000')"
   ]
  },
  {
   "cell_type": "markdown",
   "metadata": {},
   "source": [
    "### Python Native Non Vectorized"
   ]
  },
  {
   "cell_type": "markdown",
   "metadata": {},
   "source": [
    "**Linear regression hypothesis** $$ \\widehat{y} = h_{\\theta}(x) = \\theta_{0}+\\theta_{1}x$$\n",
    "**Cost function** $$ J(\\theta) = \\frac{1}{2m} \\sum_{i=1}^{m} (h_{\\theta}(x^{(i)})-y^{(i)})^{2} $$"
   ]
  },
  {
   "cell_type": "code",
   "execution_count": 31,
   "metadata": {},
   "outputs": [],
   "source": [
    "def computeCostNonVectorised(X, y, theta0,theta1):\n",
    "    m= y.size\n",
    "    J=0\n",
    "    y_hat= theta0 + theta1* X\n",
    "    J= np.sum(np.square(y_hat-y))/(2*m)\n",
    "    \n",
    "    return(J)"
   ]
  },
  {
   "cell_type": "code",
   "execution_count": null,
   "metadata": {},
   "outputs": [],
   "source": [
    "predictions = X * theta;\n",
    "    sqrErrors = (predictions-y).^2;\n",
    "\n",
    "    J = 1/(2*m) * sum(sqrErrors);"
   ]
  },
  {
   "cell_type": "markdown",
   "metadata": {},
   "source": [
    "**Partial derivative** \n",
    "$$ \\frac{\\partial J(\\theta)}{\\partial\\theta_{0}} = \\frac{1}{m} \\sum_{i=1}^{m} (h_{\\theta}(x^{(i)})-y^{(i)}) $$\n",
    "$$ \\frac{\\partial J(\\theta)}{\\partial\\theta_{1}} = \\frac{1}{m} \\sum_{i=1}^{m} (h_{\\theta}(x^{(i)})-y^{(i)})x^{(i)} $$\n",
    "**Gradient Descent** \n",
    "$$ \\theta_{0} = \\theta_{0} -\\alpha \\frac{1}{m} \\sum_{i=1}^{m} (h_{\\theta}(x^{(i)})-y^{(i)}) $$\n",
    "$$ \\theta_{1} = \\theta_{1} -\\alpha \\frac{1}{m} \\sum_{i=1}^{m} (h_{\\theta}(x^{(i)})-y^{(i)})x^{(i)} $$"
   ]
  },
  {
   "cell_type": "code",
   "execution_count": 32,
   "metadata": {},
   "outputs": [],
   "source": [
    "def gradientDescentNonVectorised(X, y,  theta0,theta1, alpha=0.01, num_iters=1500):\n",
    "    m= y.size\n",
    "    J_history=np.zeros(num_iters)\n",
    "    for i in range(num_iters):\n",
    "        y_hat= theta0 + theta1* X\n",
    "    #theta_1 = theta(1) - alpha * (1/m) * sum((X*theta-y).*X(:,1));\n",
    "    #theta_2 = theta(2) - alpha * (1/m) * sum((X*theta-y).*X(:,2));\n",
    "        theta0= theta0 - alpha * np.sum(y_hat-y)/m\n",
    "        theta1= theta1 - alpha * np.sum(y_hat-y)/m\n",
    "        J_history= computeCostNonVectorised(X, y, theta0, theta1)\n",
    "    \n",
    "    \n",
    "    return(theta0,theta1, J_history)"
   ]
  },
  {
   "cell_type": "code",
   "execution_count": 33,
   "metadata": {},
   "outputs": [
    {
     "name": "stdout",
     "output_type": "stream",
     "text": [
      "Python Native Non Vectorised: Θ0 = 0.637474077114 ; Θ1 = 0.637474077114\n",
      "Correct result: Θ0 = -3.6302914394 ; Θ1 = 1.16636235034\n"
     ]
    }
   ],
   "source": [
    "# theta for minimized cost J\n",
    "theta0_nv=0.0\n",
    "theta1_nv=0.0\n",
    "X_ = data[:,0].reshape(97,1)\n",
    "theta0_nv,theta1_nv , cost_J_nv = gradientDescentNonVectorised(X=X_, y=y,theta0=theta0_nv,theta1=theta1_nv)\n",
    "print(u\"Python Native Non Vectorised: \\u03980 = %s ; \\u03981 = %s\" % (theta0_nv,theta1_nv))\n",
    "print(u\"Correct result: \\u03980 = -3.6302914394 ; \\u03981 = 1.16636235034\")"
   ]
  },
  {
   "cell_type": "markdown",
   "metadata": {},
   "source": [
    "### Python Native Vectorized"
   ]
  },
  {
   "cell_type": "markdown",
   "metadata": {},
   "source": [
    "**Linear regression hypothesis** $$ \\widehat{y} = h_{\\theta}(X) = \\theta^{T}X$$\n",
    "**Cost function** $$ J(\\theta) = \\frac{1}{2m} \\sum (h_{\\theta}(X)-y)^{2} $$"
   ]
  },
  {
   "cell_type": "code",
   "execution_count": null,
   "metadata": {},
   "outputs": [],
   "source": [
    "def computeCost(X, y, theta):\n",
    "    #\n",
    "    return(J)"
   ]
  },
  {
   "cell_type": "markdown",
   "metadata": {},
   "source": [
    "**Partial derivative** $$ \\frac{\\partial J(\\theta)}{\\partial\\theta} = \\frac{1}{m} X^T(h_\\theta(X)-y)$$\n",
    "**Gradient Descent** $$ \\theta = \\theta -\\alpha \\frac{1}{m} X^T(h_\\theta(X)-y)$$"
   ]
  },
  {
   "cell_type": "code",
   "execution_count": null,
   "metadata": {},
   "outputs": [],
   "source": [
    "def gradientDescent(X, y, theta, alpha=0.01, num_iters=1500):\n",
    "    #\n",
    "    return(theta, J_history)"
   ]
  },
  {
   "cell_type": "code",
   "execution_count": null,
   "metadata": {},
   "outputs": [],
   "source": [
    "# theta for minimized cost J\n",
    "theta_v=np.zeros((X.shape[1],1)) # X.shape[1] = 2 (theta0, theta1)\n",
    "theta_v , cost_J_v = gradientDescent(X, y,theta=theta_v)\n",
    "print(u\"Python Native Vectorised: \\u03980 = %s ; \\u03981 = %s\" % (theta_v[0],theta_v[1]))\n",
    "print(u\"Correct result: \\u03980 = [-3.63029144] ; \\u03981 = [ 1.16636235]\")"
   ]
  },
  {
   "cell_type": "markdown",
   "metadata": {},
   "source": [
    "### Benchmark"
   ]
  },
  {
   "cell_type": "code",
   "execution_count": null,
   "metadata": {},
   "outputs": [],
   "source": [
    "x0 = np.arange(5,23)\n",
    "\n",
    "### Python Native Non Vectorised\n",
    "y0 = theta0_nv+theta1_nv*x0\n",
    "print(u\"Python Native Non Vectorised: \\u03980 = %s ; \\u03981 = %s\" % (theta0_nv,theta1_nv))\n",
    "\n",
    "### Python Native Vectorised\n",
    "y1 = theta_v[0]+theta_v[1]*x0\n",
    "print(u\"Python Native Vectorised: \\u03980 = %s ; \\u03981 = %s\" % (theta_v[0],theta_v[1]))\n",
    "\n",
    "## Plot\n",
    "plt.scatter(X[:,1], y, s=30, c='r', marker='x', linewidths=1)\n",
    "# Plot Python Native Non Vectorised\n",
    "plt.plot(x0,y0, label='Linear regression (Native Non Vectorised)')\n",
    "# Plot Python Native Vectorised\n",
    "plt.plot(x0,y1, label='Linear regression (Native Vectorised)')\n",
    "\n",
    "plt.xlim(4,24)\n",
    "plt.xlabel('Population of City in 10,000s')\n",
    "plt.ylabel(u'Profit in €10,000s')\n",
    "plt.legend(loc=4);"
   ]
  },
  {
   "cell_type": "markdown",
   "metadata": {},
   "source": [
    "### Plot result Cost function  $J(\\theta_0,\\theta_1)$"
   ]
  },
  {
   "cell_type": "code",
   "execution_count": null,
   "metadata": {
    "scrolled": true
   },
   "outputs": [],
   "source": [
    "x_cost=range(1500)\n",
    "plt.plot(x_cost, cost_J_nv, label='Linear regression (Native Non Vectorised)')\n",
    "plt.plot(x_cost, cost_J_v, label='Linear regression (Native Vectorised)')\n",
    "plt.legend(loc=1);"
   ]
  }
 ],
 "metadata": {
  "kernelspec": {
   "display_name": "Python 3",
   "language": "python",
   "name": "python3"
  },
  "language_info": {
   "codemirror_mode": {
    "name": "ipython",
    "version": 3
   },
   "file_extension": ".py",
   "mimetype": "text/x-python",
   "name": "python",
   "nbconvert_exporter": "python",
   "pygments_lexer": "ipython3",
   "version": "3.6.4"
  }
 },
 "nbformat": 4,
 "nbformat_minor": 1
}
